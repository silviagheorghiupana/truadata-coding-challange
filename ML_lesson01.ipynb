{
  "nbformat": 4,
  "nbformat_minor": 0,
  "metadata": {
    "colab": {
      "provenance": [],
      "authorship_tag": "ABX9TyNHlaLXcafrKMP1JJwSRMKU",
      "include_colab_link": true
    },
    "kernelspec": {
      "name": "python3",
      "display_name": "Python 3"
    },
    "language_info": {
      "name": "python"
    }
  },
  "cells": [
    {
      "cell_type": "markdown",
      "metadata": {
        "id": "view-in-github",
        "colab_type": "text"
      },
      "source": [
        "<a href=\"https://colab.research.google.com/github/silviagheorghiupana/truadata-coding-challange/blob/master/ML_lesson01.ipynb\" target=\"_parent\"><img src=\"https://colab.research.google.com/assets/colab-badge.svg\" alt=\"Open In Colab\"/></a>"
      ]
    },
    {
      "cell_type": "code",
      "execution_count": 1,
      "metadata": {
        "id": "tE4s-u_oP8xv",
        "colab": {
          "base_uri": "https://localhost:8080/"
        },
        "outputId": "28ca47e6-fe1a-4e30-c3ed-451fde8bb80d"
      },
      "outputs": [
        {
          "output_type": "stream",
          "name": "stdout",
          "text": [
            "Looking in indexes: https://pypi.org/simple, https://us-python.pkg.dev/colab-wheels/public/simple/\n",
            "Collecting pyspark\n",
            "  Downloading pyspark-3.3.1.tar.gz (281.4 MB)\n",
            "\u001b[K     |████████████████████████████████| 281.4 MB 42 kB/s \n",
            "\u001b[?25hCollecting py4j==0.10.9.5\n",
            "  Downloading py4j-0.10.9.5-py2.py3-none-any.whl (199 kB)\n",
            "\u001b[K     |████████████████████████████████| 199 kB 51.6 MB/s \n",
            "\u001b[?25hBuilding wheels for collected packages: pyspark\n",
            "  Building wheel for pyspark (setup.py) ... \u001b[?25l\u001b[?25hdone\n",
            "  Created wheel for pyspark: filename=pyspark-3.3.1-py2.py3-none-any.whl size=281845512 sha256=ff83dcbb5c3fb449603d1c717773525509040c5bd79bd9125bd925b6cc9d2a0c\n",
            "  Stored in directory: /root/.cache/pip/wheels/43/dc/11/ec201cd671da62fa9c5cc77078235e40722170ceba231d7598\n",
            "Successfully built pyspark\n",
            "Installing collected packages: py4j, pyspark\n",
            "Successfully installed py4j-0.10.9.5 pyspark-3.3.1\n"
          ]
        }
      ],
      "source": [
        "!pip3 install pyspark"
      ]
    },
    {
      "cell_type": "code",
      "source": [
        "from pyspark import SparkContext, SparkConf"
      ],
      "metadata": {
        "id": "OhtlBvsf7P43"
      },
      "execution_count": 2,
      "outputs": []
    },
    {
      "cell_type": "code",
      "source": [
        "conf = SparkConf().setAppName(\"silvia-ml-01\").setMaster(\"local[*]\")\n",
        "sc = SparkContext(conf=conf)\n",
        "print(sc)"
      ],
      "metadata": {
        "colab": {
          "base_uri": "https://localhost:8080/"
        },
        "id": "kRre1n817fOh",
        "outputId": "a2f402bb-cfe9-4bf9-ee87-819e8435feaf"
      },
      "execution_count": 3,
      "outputs": [
        {
          "output_type": "stream",
          "name": "stdout",
          "text": [
            "<SparkContext master=local[*] appName=silvia-ml-01>\n"
          ]
        }
      ]
    },
    {
      "cell_type": "code",
      "source": [
        "from google.colab import files\n",
        "upload_files = files.upload()"
      ],
      "metadata": {
        "colab": {
          "base_uri": "https://localhost:8080/",
          "height": 74
        },
        "id": "8o2e_9Yy7uTn",
        "outputId": "19264914-ef2e-49d3-83c3-64de18ba156f"
      },
      "execution_count": 4,
      "outputs": [
        {
          "output_type": "display_data",
          "data": {
            "text/plain": [
              "<IPython.core.display.HTML object>"
            ],
            "text/html": [
              "\n",
              "     <input type=\"file\" id=\"files-256c1ce0-17b1-422c-9c33-7da12f935cb2\" name=\"files[]\" multiple disabled\n",
              "        style=\"border:none\" />\n",
              "     <output id=\"result-256c1ce0-17b1-422c-9c33-7da12f935cb2\">\n",
              "      Upload widget is only available when the cell has been executed in the\n",
              "      current browser session. Please rerun this cell to enable.\n",
              "      </output>\n",
              "      <script>// Copyright 2017 Google LLC\n",
              "//\n",
              "// Licensed under the Apache License, Version 2.0 (the \"License\");\n",
              "// you may not use this file except in compliance with the License.\n",
              "// You may obtain a copy of the License at\n",
              "//\n",
              "//      http://www.apache.org/licenses/LICENSE-2.0\n",
              "//\n",
              "// Unless required by applicable law or agreed to in writing, software\n",
              "// distributed under the License is distributed on an \"AS IS\" BASIS,\n",
              "// WITHOUT WARRANTIES OR CONDITIONS OF ANY KIND, either express or implied.\n",
              "// See the License for the specific language governing permissions and\n",
              "// limitations under the License.\n",
              "\n",
              "/**\n",
              " * @fileoverview Helpers for google.colab Python module.\n",
              " */\n",
              "(function(scope) {\n",
              "function span(text, styleAttributes = {}) {\n",
              "  const element = document.createElement('span');\n",
              "  element.textContent = text;\n",
              "  for (const key of Object.keys(styleAttributes)) {\n",
              "    element.style[key] = styleAttributes[key];\n",
              "  }\n",
              "  return element;\n",
              "}\n",
              "\n",
              "// Max number of bytes which will be uploaded at a time.\n",
              "const MAX_PAYLOAD_SIZE = 100 * 1024;\n",
              "\n",
              "function _uploadFiles(inputId, outputId) {\n",
              "  const steps = uploadFilesStep(inputId, outputId);\n",
              "  const outputElement = document.getElementById(outputId);\n",
              "  // Cache steps on the outputElement to make it available for the next call\n",
              "  // to uploadFilesContinue from Python.\n",
              "  outputElement.steps = steps;\n",
              "\n",
              "  return _uploadFilesContinue(outputId);\n",
              "}\n",
              "\n",
              "// This is roughly an async generator (not supported in the browser yet),\n",
              "// where there are multiple asynchronous steps and the Python side is going\n",
              "// to poll for completion of each step.\n",
              "// This uses a Promise to block the python side on completion of each step,\n",
              "// then passes the result of the previous step as the input to the next step.\n",
              "function _uploadFilesContinue(outputId) {\n",
              "  const outputElement = document.getElementById(outputId);\n",
              "  const steps = outputElement.steps;\n",
              "\n",
              "  const next = steps.next(outputElement.lastPromiseValue);\n",
              "  return Promise.resolve(next.value.promise).then((value) => {\n",
              "    // Cache the last promise value to make it available to the next\n",
              "    // step of the generator.\n",
              "    outputElement.lastPromiseValue = value;\n",
              "    return next.value.response;\n",
              "  });\n",
              "}\n",
              "\n",
              "/**\n",
              " * Generator function which is called between each async step of the upload\n",
              " * process.\n",
              " * @param {string} inputId Element ID of the input file picker element.\n",
              " * @param {string} outputId Element ID of the output display.\n",
              " * @return {!Iterable<!Object>} Iterable of next steps.\n",
              " */\n",
              "function* uploadFilesStep(inputId, outputId) {\n",
              "  const inputElement = document.getElementById(inputId);\n",
              "  inputElement.disabled = false;\n",
              "\n",
              "  const outputElement = document.getElementById(outputId);\n",
              "  outputElement.innerHTML = '';\n",
              "\n",
              "  const pickedPromise = new Promise((resolve) => {\n",
              "    inputElement.addEventListener('change', (e) => {\n",
              "      resolve(e.target.files);\n",
              "    });\n",
              "  });\n",
              "\n",
              "  const cancel = document.createElement('button');\n",
              "  inputElement.parentElement.appendChild(cancel);\n",
              "  cancel.textContent = 'Cancel upload';\n",
              "  const cancelPromise = new Promise((resolve) => {\n",
              "    cancel.onclick = () => {\n",
              "      resolve(null);\n",
              "    };\n",
              "  });\n",
              "\n",
              "  // Wait for the user to pick the files.\n",
              "  const files = yield {\n",
              "    promise: Promise.race([pickedPromise, cancelPromise]),\n",
              "    response: {\n",
              "      action: 'starting',\n",
              "    }\n",
              "  };\n",
              "\n",
              "  cancel.remove();\n",
              "\n",
              "  // Disable the input element since further picks are not allowed.\n",
              "  inputElement.disabled = true;\n",
              "\n",
              "  if (!files) {\n",
              "    return {\n",
              "      response: {\n",
              "        action: 'complete',\n",
              "      }\n",
              "    };\n",
              "  }\n",
              "\n",
              "  for (const file of files) {\n",
              "    const li = document.createElement('li');\n",
              "    li.append(span(file.name, {fontWeight: 'bold'}));\n",
              "    li.append(span(\n",
              "        `(${file.type || 'n/a'}) - ${file.size} bytes, ` +\n",
              "        `last modified: ${\n",
              "            file.lastModifiedDate ? file.lastModifiedDate.toLocaleDateString() :\n",
              "                                    'n/a'} - `));\n",
              "    const percent = span('0% done');\n",
              "    li.appendChild(percent);\n",
              "\n",
              "    outputElement.appendChild(li);\n",
              "\n",
              "    const fileDataPromise = new Promise((resolve) => {\n",
              "      const reader = new FileReader();\n",
              "      reader.onload = (e) => {\n",
              "        resolve(e.target.result);\n",
              "      };\n",
              "      reader.readAsArrayBuffer(file);\n",
              "    });\n",
              "    // Wait for the data to be ready.\n",
              "    let fileData = yield {\n",
              "      promise: fileDataPromise,\n",
              "      response: {\n",
              "        action: 'continue',\n",
              "      }\n",
              "    };\n",
              "\n",
              "    // Use a chunked sending to avoid message size limits. See b/62115660.\n",
              "    let position = 0;\n",
              "    do {\n",
              "      const length = Math.min(fileData.byteLength - position, MAX_PAYLOAD_SIZE);\n",
              "      const chunk = new Uint8Array(fileData, position, length);\n",
              "      position += length;\n",
              "\n",
              "      const base64 = btoa(String.fromCharCode.apply(null, chunk));\n",
              "      yield {\n",
              "        response: {\n",
              "          action: 'append',\n",
              "          file: file.name,\n",
              "          data: base64,\n",
              "        },\n",
              "      };\n",
              "\n",
              "      let percentDone = fileData.byteLength === 0 ?\n",
              "          100 :\n",
              "          Math.round((position / fileData.byteLength) * 100);\n",
              "      percent.textContent = `${percentDone}% done`;\n",
              "\n",
              "    } while (position < fileData.byteLength);\n",
              "  }\n",
              "\n",
              "  // All done.\n",
              "  yield {\n",
              "    response: {\n",
              "      action: 'complete',\n",
              "    }\n",
              "  };\n",
              "}\n",
              "\n",
              "scope.google = scope.google || {};\n",
              "scope.google.colab = scope.google.colab || {};\n",
              "scope.google.colab._files = {\n",
              "  _uploadFiles,\n",
              "  _uploadFilesContinue,\n",
              "};\n",
              "})(self);\n",
              "</script> "
            ]
          },
          "metadata": {}
        },
        {
          "output_type": "stream",
          "name": "stdout",
          "text": [
            "Saving iris.csv to iris.csv\n"
          ]
        }
      ]
    },
    {
      "cell_type": "code",
      "source": [
        "from pyspark.sql import SparkSession"
      ],
      "metadata": {
        "id": "buu1dj9B8VqT"
      },
      "execution_count": 7,
      "outputs": []
    },
    {
      "cell_type": "code",
      "source": [
        "spark = SparkSession.builder.appName('Silvia-session-ml').getOrCreate()"
      ],
      "metadata": {
        "id": "vw-ZdsxP8O-m"
      },
      "execution_count": 8,
      "outputs": []
    },
    {
      "cell_type": "code",
      "source": [
        "raw_data=spark.read.csv(\"iris.csv\",inferSchema=True)"
      ],
      "metadata": {
        "id": "NtjpAS3L7zZD"
      },
      "execution_count": 25,
      "outputs": []
    },
    {
      "cell_type": "code",
      "source": [
        "raw_data.take(5)\n",
        "raw_data.printSchema()"
      ],
      "metadata": {
        "colab": {
          "base_uri": "https://localhost:8080/"
        },
        "id": "vtQWf3rQ8HqJ",
        "outputId": "d4ec7a67-b709-445e-cfb6-ef1fcdb7d89f"
      },
      "execution_count": 26,
      "outputs": [
        {
          "output_type": "stream",
          "name": "stdout",
          "text": [
            "root\n",
            " |-- _c0: double (nullable = true)\n",
            " |-- _c1: double (nullable = true)\n",
            " |-- _c2: double (nullable = true)\n",
            " |-- _c3: double (nullable = true)\n",
            " |-- _c4: string (nullable = true)\n",
            "\n"
          ]
        }
      ]
    },
    {
      "cell_type": "code",
      "source": [
        "from pyspark.ml.feature import StringIndexer\n",
        "indexer = StringIndexer(inputCol=\"_c4\", outputCol=\"class_label\")"
      ],
      "metadata": {
        "id": "Zds-MJtNHP38"
      },
      "execution_count": 29,
      "outputs": []
    },
    {
      "cell_type": "code",
      "source": [
        "indexed=indexer.fit(raw_data).transform(raw_data)\n",
        "indexed.groupBy(\"class_label\").count().show()"
      ],
      "metadata": {
        "colab": {
          "base_uri": "https://localhost:8080/"
        },
        "id": "ScE7wJq-HPry",
        "outputId": "77952d90-cb33-409c-dc5b-60228e12822e"
      },
      "execution_count": 35,
      "outputs": [
        {
          "output_type": "stream",
          "name": "stdout",
          "text": [
            "+-----------+-----+\n",
            "|class_label|count|\n",
            "+-----------+-----+\n",
            "|        0.0|   50|\n",
            "|        1.0|   50|\n",
            "|        2.0|   50|\n",
            "+-----------+-----+\n",
            "\n"
          ]
        }
      ]
    },
    {
      "cell_type": "code",
      "source": [
        "from pyspark.ml.feature import VectorAssembler\n",
        "assembler = VectorAssembler(inputCols=[\"_c0\",\"_c1\",\"_c2\",\"_c3\"], outputCol=\"features\")\n"
      ],
      "metadata": {
        "id": "X5I2r4V2QZSN"
      },
      "execution_count": 37,
      "outputs": []
    },
    {
      "cell_type": "code",
      "source": [
        "# mapping_dict = {\"Iris-setosa\":\"0\",\"Iris-versicolor\":\"1\",\"Iris-virginica\":\"2\"}\n",
        "# print(mapping_dict)"
      ],
      "metadata": {
        "id": "D7WzKBUKdyXr"
      },
      "execution_count": 74,
      "outputs": []
    },
    {
      "cell_type": "code",
      "source": [
        "output=assembler.transform(indexed)\n",
        "output.show(100)"
      ],
      "metadata": {
        "colab": {
          "base_uri": "https://localhost:8080/"
        },
        "id": "V0kGx4fFQZKQ",
        "outputId": "e375c746-fa23-4b93-8f4b-2f6f33140065"
      },
      "execution_count": 60,
      "outputs": [
        {
          "output_type": "stream",
          "name": "stdout",
          "text": [
            "+---+---+---+---+---------------+-----------+-----------------+\n",
            "|_c0|_c1|_c2|_c3|            _c4|class_label|         features|\n",
            "+---+---+---+---+---------------+-----------+-----------------+\n",
            "|5.1|3.5|1.4|0.2|    Iris-setosa|        0.0|[5.1,3.5,1.4,0.2]|\n",
            "|4.9|3.0|1.4|0.2|    Iris-setosa|        0.0|[4.9,3.0,1.4,0.2]|\n",
            "|4.7|3.2|1.3|0.2|    Iris-setosa|        0.0|[4.7,3.2,1.3,0.2]|\n",
            "|4.6|3.1|1.5|0.2|    Iris-setosa|        0.0|[4.6,3.1,1.5,0.2]|\n",
            "|5.0|3.6|1.4|0.2|    Iris-setosa|        0.0|[5.0,3.6,1.4,0.2]|\n",
            "|5.4|3.9|1.7|0.4|    Iris-setosa|        0.0|[5.4,3.9,1.7,0.4]|\n",
            "|4.6|3.4|1.4|0.3|    Iris-setosa|        0.0|[4.6,3.4,1.4,0.3]|\n",
            "|5.0|3.4|1.5|0.2|    Iris-setosa|        0.0|[5.0,3.4,1.5,0.2]|\n",
            "|4.4|2.9|1.4|0.2|    Iris-setosa|        0.0|[4.4,2.9,1.4,0.2]|\n",
            "|4.9|3.1|1.5|0.1|    Iris-setosa|        0.0|[4.9,3.1,1.5,0.1]|\n",
            "|5.4|3.7|1.5|0.2|    Iris-setosa|        0.0|[5.4,3.7,1.5,0.2]|\n",
            "|4.8|3.4|1.6|0.2|    Iris-setosa|        0.0|[4.8,3.4,1.6,0.2]|\n",
            "|4.8|3.0|1.4|0.1|    Iris-setosa|        0.0|[4.8,3.0,1.4,0.1]|\n",
            "|4.3|3.0|1.1|0.1|    Iris-setosa|        0.0|[4.3,3.0,1.1,0.1]|\n",
            "|5.8|4.0|1.2|0.2|    Iris-setosa|        0.0|[5.8,4.0,1.2,0.2]|\n",
            "|5.7|4.4|1.5|0.4|    Iris-setosa|        0.0|[5.7,4.4,1.5,0.4]|\n",
            "|5.4|3.9|1.3|0.4|    Iris-setosa|        0.0|[5.4,3.9,1.3,0.4]|\n",
            "|5.1|3.5|1.4|0.3|    Iris-setosa|        0.0|[5.1,3.5,1.4,0.3]|\n",
            "|5.7|3.8|1.7|0.3|    Iris-setosa|        0.0|[5.7,3.8,1.7,0.3]|\n",
            "|5.1|3.8|1.5|0.3|    Iris-setosa|        0.0|[5.1,3.8,1.5,0.3]|\n",
            "|5.4|3.4|1.7|0.2|    Iris-setosa|        0.0|[5.4,3.4,1.7,0.2]|\n",
            "|5.1|3.7|1.5|0.4|    Iris-setosa|        0.0|[5.1,3.7,1.5,0.4]|\n",
            "|4.6|3.6|1.0|0.2|    Iris-setosa|        0.0|[4.6,3.6,1.0,0.2]|\n",
            "|5.1|3.3|1.7|0.5|    Iris-setosa|        0.0|[5.1,3.3,1.7,0.5]|\n",
            "|4.8|3.4|1.9|0.2|    Iris-setosa|        0.0|[4.8,3.4,1.9,0.2]|\n",
            "|5.0|3.0|1.6|0.2|    Iris-setosa|        0.0|[5.0,3.0,1.6,0.2]|\n",
            "|5.0|3.4|1.6|0.4|    Iris-setosa|        0.0|[5.0,3.4,1.6,0.4]|\n",
            "|5.2|3.5|1.5|0.2|    Iris-setosa|        0.0|[5.2,3.5,1.5,0.2]|\n",
            "|5.2|3.4|1.4|0.2|    Iris-setosa|        0.0|[5.2,3.4,1.4,0.2]|\n",
            "|4.7|3.2|1.6|0.2|    Iris-setosa|        0.0|[4.7,3.2,1.6,0.2]|\n",
            "|4.8|3.1|1.6|0.2|    Iris-setosa|        0.0|[4.8,3.1,1.6,0.2]|\n",
            "|5.4|3.4|1.5|0.4|    Iris-setosa|        0.0|[5.4,3.4,1.5,0.4]|\n",
            "|5.2|4.1|1.5|0.1|    Iris-setosa|        0.0|[5.2,4.1,1.5,0.1]|\n",
            "|5.5|4.2|1.4|0.2|    Iris-setosa|        0.0|[5.5,4.2,1.4,0.2]|\n",
            "|4.9|3.1|1.5|0.1|    Iris-setosa|        0.0|[4.9,3.1,1.5,0.1]|\n",
            "|5.0|3.2|1.2|0.2|    Iris-setosa|        0.0|[5.0,3.2,1.2,0.2]|\n",
            "|5.5|3.5|1.3|0.2|    Iris-setosa|        0.0|[5.5,3.5,1.3,0.2]|\n",
            "|4.9|3.1|1.5|0.1|    Iris-setosa|        0.0|[4.9,3.1,1.5,0.1]|\n",
            "|4.4|3.0|1.3|0.2|    Iris-setosa|        0.0|[4.4,3.0,1.3,0.2]|\n",
            "|5.1|3.4|1.5|0.2|    Iris-setosa|        0.0|[5.1,3.4,1.5,0.2]|\n",
            "|5.0|3.5|1.3|0.3|    Iris-setosa|        0.0|[5.0,3.5,1.3,0.3]|\n",
            "|4.5|2.3|1.3|0.3|    Iris-setosa|        0.0|[4.5,2.3,1.3,0.3]|\n",
            "|4.4|3.2|1.3|0.2|    Iris-setosa|        0.0|[4.4,3.2,1.3,0.2]|\n",
            "|5.0|3.5|1.6|0.6|    Iris-setosa|        0.0|[5.0,3.5,1.6,0.6]|\n",
            "|5.1|3.8|1.9|0.4|    Iris-setosa|        0.0|[5.1,3.8,1.9,0.4]|\n",
            "|4.8|3.0|1.4|0.3|    Iris-setosa|        0.0|[4.8,3.0,1.4,0.3]|\n",
            "|5.1|3.8|1.6|0.2|    Iris-setosa|        0.0|[5.1,3.8,1.6,0.2]|\n",
            "|4.6|3.2|1.4|0.2|    Iris-setosa|        0.0|[4.6,3.2,1.4,0.2]|\n",
            "|5.3|3.7|1.5|0.2|    Iris-setosa|        0.0|[5.3,3.7,1.5,0.2]|\n",
            "|5.0|3.3|1.4|0.2|    Iris-setosa|        0.0|[5.0,3.3,1.4,0.2]|\n",
            "|7.0|3.2|4.7|1.4|Iris-versicolor|        1.0|[7.0,3.2,4.7,1.4]|\n",
            "|6.4|3.2|4.5|1.5|Iris-versicolor|        1.0|[6.4,3.2,4.5,1.5]|\n",
            "|6.9|3.1|4.9|1.5|Iris-versicolor|        1.0|[6.9,3.1,4.9,1.5]|\n",
            "|5.5|2.3|4.0|1.3|Iris-versicolor|        1.0|[5.5,2.3,4.0,1.3]|\n",
            "|6.5|2.8|4.6|1.5|Iris-versicolor|        1.0|[6.5,2.8,4.6,1.5]|\n",
            "|5.7|2.8|4.5|1.3|Iris-versicolor|        1.0|[5.7,2.8,4.5,1.3]|\n",
            "|6.3|3.3|4.7|1.6|Iris-versicolor|        1.0|[6.3,3.3,4.7,1.6]|\n",
            "|4.9|2.4|3.3|1.0|Iris-versicolor|        1.0|[4.9,2.4,3.3,1.0]|\n",
            "|6.6|2.9|4.6|1.3|Iris-versicolor|        1.0|[6.6,2.9,4.6,1.3]|\n",
            "|5.2|2.7|3.9|1.4|Iris-versicolor|        1.0|[5.2,2.7,3.9,1.4]|\n",
            "|5.0|2.0|3.5|1.0|Iris-versicolor|        1.0|[5.0,2.0,3.5,1.0]|\n",
            "|5.9|3.0|4.2|1.5|Iris-versicolor|        1.0|[5.9,3.0,4.2,1.5]|\n",
            "|6.0|2.2|4.0|1.0|Iris-versicolor|        1.0|[6.0,2.2,4.0,1.0]|\n",
            "|6.1|2.9|4.7|1.4|Iris-versicolor|        1.0|[6.1,2.9,4.7,1.4]|\n",
            "|5.6|2.9|3.6|1.3|Iris-versicolor|        1.0|[5.6,2.9,3.6,1.3]|\n",
            "|6.7|3.1|4.4|1.4|Iris-versicolor|        1.0|[6.7,3.1,4.4,1.4]|\n",
            "|5.6|3.0|4.5|1.5|Iris-versicolor|        1.0|[5.6,3.0,4.5,1.5]|\n",
            "|5.8|2.7|4.1|1.0|Iris-versicolor|        1.0|[5.8,2.7,4.1,1.0]|\n",
            "|6.2|2.2|4.5|1.5|Iris-versicolor|        1.0|[6.2,2.2,4.5,1.5]|\n",
            "|5.6|2.5|3.9|1.1|Iris-versicolor|        1.0|[5.6,2.5,3.9,1.1]|\n",
            "|5.9|3.2|4.8|1.8|Iris-versicolor|        1.0|[5.9,3.2,4.8,1.8]|\n",
            "|6.1|2.8|4.0|1.3|Iris-versicolor|        1.0|[6.1,2.8,4.0,1.3]|\n",
            "|6.3|2.5|4.9|1.5|Iris-versicolor|        1.0|[6.3,2.5,4.9,1.5]|\n",
            "|6.1|2.8|4.7|1.2|Iris-versicolor|        1.0|[6.1,2.8,4.7,1.2]|\n",
            "|6.4|2.9|4.3|1.3|Iris-versicolor|        1.0|[6.4,2.9,4.3,1.3]|\n",
            "|6.6|3.0|4.4|1.4|Iris-versicolor|        1.0|[6.6,3.0,4.4,1.4]|\n",
            "|6.8|2.8|4.8|1.4|Iris-versicolor|        1.0|[6.8,2.8,4.8,1.4]|\n",
            "|6.7|3.0|5.0|1.7|Iris-versicolor|        1.0|[6.7,3.0,5.0,1.7]|\n",
            "|6.0|2.9|4.5|1.5|Iris-versicolor|        1.0|[6.0,2.9,4.5,1.5]|\n",
            "|5.7|2.6|3.5|1.0|Iris-versicolor|        1.0|[5.7,2.6,3.5,1.0]|\n",
            "|5.5|2.4|3.8|1.1|Iris-versicolor|        1.0|[5.5,2.4,3.8,1.1]|\n",
            "|5.5|2.4|3.7|1.0|Iris-versicolor|        1.0|[5.5,2.4,3.7,1.0]|\n",
            "|5.8|2.7|3.9|1.2|Iris-versicolor|        1.0|[5.8,2.7,3.9,1.2]|\n",
            "|6.0|2.7|5.1|1.6|Iris-versicolor|        1.0|[6.0,2.7,5.1,1.6]|\n",
            "|5.4|3.0|4.5|1.5|Iris-versicolor|        1.0|[5.4,3.0,4.5,1.5]|\n",
            "|6.0|3.4|4.5|1.6|Iris-versicolor|        1.0|[6.0,3.4,4.5,1.6]|\n",
            "|6.7|3.1|4.7|1.5|Iris-versicolor|        1.0|[6.7,3.1,4.7,1.5]|\n",
            "|6.3|2.3|4.4|1.3|Iris-versicolor|        1.0|[6.3,2.3,4.4,1.3]|\n",
            "|5.6|3.0|4.1|1.3|Iris-versicolor|        1.0|[5.6,3.0,4.1,1.3]|\n",
            "|5.5|2.5|4.0|1.3|Iris-versicolor|        1.0|[5.5,2.5,4.0,1.3]|\n",
            "|5.5|2.6|4.4|1.2|Iris-versicolor|        1.0|[5.5,2.6,4.4,1.2]|\n",
            "|6.1|3.0|4.6|1.4|Iris-versicolor|        1.0|[6.1,3.0,4.6,1.4]|\n",
            "|5.8|2.6|4.0|1.2|Iris-versicolor|        1.0|[5.8,2.6,4.0,1.2]|\n",
            "|5.0|2.3|3.3|1.0|Iris-versicolor|        1.0|[5.0,2.3,3.3,1.0]|\n",
            "|5.6|2.7|4.2|1.3|Iris-versicolor|        1.0|[5.6,2.7,4.2,1.3]|\n",
            "|5.7|3.0|4.2|1.2|Iris-versicolor|        1.0|[5.7,3.0,4.2,1.2]|\n",
            "|5.7|2.9|4.2|1.3|Iris-versicolor|        1.0|[5.7,2.9,4.2,1.3]|\n",
            "|6.2|2.9|4.3|1.3|Iris-versicolor|        1.0|[6.2,2.9,4.3,1.3]|\n",
            "|5.1|2.5|3.0|1.1|Iris-versicolor|        1.0|[5.1,2.5,3.0,1.1]|\n",
            "|5.7|2.8|4.1|1.3|Iris-versicolor|        1.0|[5.7,2.8,4.1,1.3]|\n",
            "+---+---+---+---+---------------+-----------+-----------------+\n",
            "only showing top 100 rows\n",
            "\n"
          ]
        }
      ]
    },
    {
      "cell_type": "code",
      "source": [
        "data = output.select(\"features\",\"class_label\")"
      ],
      "metadata": {
        "id": "dtuzMpHRQZAe"
      },
      "execution_count": 41,
      "outputs": []
    },
    {
      "cell_type": "code",
      "source": [
        "data.show()"
      ],
      "metadata": {
        "colab": {
          "base_uri": "https://localhost:8080/"
        },
        "id": "JdG84NlsSTOb",
        "outputId": "e4d95d2e-5342-4880-a08b-30ecc2dfcedb"
      },
      "execution_count": 42,
      "outputs": [
        {
          "output_type": "stream",
          "name": "stdout",
          "text": [
            "+-----------------+-----------+\n",
            "|         features|class_label|\n",
            "+-----------------+-----------+\n",
            "|[5.1,3.5,1.4,0.2]|        0.0|\n",
            "|[4.9,3.0,1.4,0.2]|        0.0|\n",
            "|[4.7,3.2,1.3,0.2]|        0.0|\n",
            "|[4.6,3.1,1.5,0.2]|        0.0|\n",
            "|[5.0,3.6,1.4,0.2]|        0.0|\n",
            "|[5.4,3.9,1.7,0.4]|        0.0|\n",
            "|[4.6,3.4,1.4,0.3]|        0.0|\n",
            "|[5.0,3.4,1.5,0.2]|        0.0|\n",
            "|[4.4,2.9,1.4,0.2]|        0.0|\n",
            "|[4.9,3.1,1.5,0.1]|        0.0|\n",
            "|[5.4,3.7,1.5,0.2]|        0.0|\n",
            "|[4.8,3.4,1.6,0.2]|        0.0|\n",
            "|[4.8,3.0,1.4,0.1]|        0.0|\n",
            "|[4.3,3.0,1.1,0.1]|        0.0|\n",
            "|[5.8,4.0,1.2,0.2]|        0.0|\n",
            "|[5.7,4.4,1.5,0.4]|        0.0|\n",
            "|[5.4,3.9,1.3,0.4]|        0.0|\n",
            "|[5.1,3.5,1.4,0.3]|        0.0|\n",
            "|[5.7,3.8,1.7,0.3]|        0.0|\n",
            "|[5.1,3.8,1.5,0.3]|        0.0|\n",
            "+-----------------+-----------+\n",
            "only showing top 20 rows\n",
            "\n"
          ]
        }
      ]
    },
    {
      "cell_type": "code",
      "source": [
        "training_df,test_df = data.randomSplit([0.8, 0.2])"
      ],
      "metadata": {
        "id": "nrKH0eblS9hh"
      },
      "execution_count": 44,
      "outputs": []
    },
    {
      "cell_type": "code",
      "source": [
        "from pyspark.ml.classification import  LogisticRegression"
      ],
      "metadata": {
        "id": "Hf_XTNVcTWYN"
      },
      "execution_count": 45,
      "outputs": []
    },
    {
      "cell_type": "code",
      "source": [
        "log_rec = LogisticRegression(labelCol=\"class_label\").fit(training_df)"
      ],
      "metadata": {
        "id": "7gIpxfw7T6Dg"
      },
      "execution_count": 46,
      "outputs": []
    },
    {
      "cell_type": "code",
      "source": [
        "results = log_rec.evaluate(test_df).predictions"
      ],
      "metadata": {
        "id": "nqUXne-iU1dh"
      },
      "execution_count": 47,
      "outputs": []
    },
    {
      "cell_type": "code",
      "source": [
        "results.show()"
      ],
      "metadata": {
        "colab": {
          "base_uri": "https://localhost:8080/"
        },
        "id": "fGcDOCiLVJoV",
        "outputId": "3c28560a-6df9-4f38-d374-ca567cf2181e"
      },
      "execution_count": 48,
      "outputs": [
        {
          "output_type": "stream",
          "name": "stdout",
          "text": [
            "+-----------------+-----------+--------------------+--------------------+----------+\n",
            "|         features|class_label|       rawPrediction|         probability|prediction|\n",
            "+-----------------+-----------+--------------------+--------------------+----------+\n",
            "|[4.4,2.9,1.4,0.2]|        0.0|[29.3069024149366...|[0.99999996715826...|       0.0|\n",
            "|[4.5,2.3,1.3,0.3]|        0.0|[17.4058679954855...|[0.81985865794128...|       0.0|\n",
            "|[4.6,3.2,1.4,0.2]|        0.0|[33.4246772009935...|[0.99999999977614...|       0.0|\n",
            "|[4.7,3.2,1.3,0.2]|        0.0|[33.3954387783887...|[0.99999999957863...|       0.0|\n",
            "|[4.8,3.4,1.6,0.2]|        0.0|[34.6663616327339...|[0.99999999996673...|       0.0|\n",
            "|[4.9,3.0,1.4,0.2]|        0.0|[28.1412836535067...|[0.99999951190766...|       0.0|\n",
            "|[5.2,3.4,1.4,0.2]|        0.0|[33.4364030843942...|[0.99999999911774...|       0.0|\n",
            "|[5.2,4.1,1.5,0.1]|        0.0|[46.5147821486759...|[1.0,3.4970402886...|       0.0|\n",
            "|[5.5,2.5,4.0,1.3]|        1.0|[-12.883765294025...|[1.71862358171431...|       1.0|\n",
            "|[5.5,3.5,1.3,0.2]|        0.0|[33.9987684550549...|[0.99999999879503...|       0.0|\n",
            "|[5.6,2.5,3.9,1.1]|        1.0|[-10.326437679685...|[7.92687052350622...|       1.0|\n",
            "|[5.6,2.8,4.9,2.0]|        2.0|[-22.241752646351...|[8.50257946650475...|       2.0|\n",
            "|[5.6,3.0,4.5,1.5]|        1.0|[-10.023156845358...|[1.30108230525436...|       1.0|\n",
            "|[5.8,2.7,4.1,1.0]|        1.0|[-7.7914702294733...|[1.57190222464331...|       1.0|\n",
            "|[6.0,2.2,4.0,1.0]|        1.0|[-17.221876985621...|[2.61051391946235...|       1.0|\n",
            "|[6.1,2.8,4.7,1.2]|        1.0|[-13.711187898479...|[9.66856927119950...|       1.0|\n",
            "|[6.2,3.4,5.4,2.3]|        2.0|[-21.840045977586...|[1.63924164444503...|       2.0|\n",
            "|[6.3,2.7,4.9,1.8]|        2.0|[-25.518458066758...|[5.84243549145540...|       2.0|\n",
            "|[6.3,2.9,5.6,1.8]|        2.0|[-25.887804076690...|[2.65508151372969...|       2.0|\n",
            "|[6.4,2.7,5.3,1.9]|        2.0|[-29.623491652637...|[1.00735336630919...|       2.0|\n",
            "+-----------------+-----------+--------------------+--------------------+----------+\n",
            "only showing top 20 rows\n",
            "\n"
          ]
        }
      ]
    },
    {
      "cell_type": "code",
      "source": [
        "pred_data_raw = spark.createDataFrame([(5.1, 3.5, 1.4, 0.2),(6.2, 3.4, 5.4, 2.3)],[\"sepal_length\",\"sepal_width\",\"petal_length\",\"petal_width\"])\n",
        "pred_data_raw.show()"
      ],
      "metadata": {
        "colab": {
          "base_uri": "https://localhost:8080/"
        },
        "id": "2jsJKAKwVmv7",
        "outputId": "48d879d4-8d45-4b5f-ee5a-e7fe12b78972"
      },
      "execution_count": 51,
      "outputs": [
        {
          "output_type": "stream",
          "name": "stdout",
          "text": [
            "+------------+-----------+------------+-----------+\n",
            "|sepal_length|sepal_width|petal_length|petal_width|\n",
            "+------------+-----------+------------+-----------+\n",
            "|         5.1|        3.5|         1.4|        0.2|\n",
            "|         6.2|        3.4|         5.4|        2.3|\n",
            "+------------+-----------+------------+-----------+\n",
            "\n"
          ]
        }
      ]
    },
    {
      "cell_type": "code",
      "source": [
        "assembler2 = VectorAssembler(inputCols=[\"sepal_length\",\"sepal_width\",\"petal_length\",\"petal_width\"], outputCol=\"features\")"
      ],
      "metadata": {
        "id": "FFTpVcnEWhZ0"
      },
      "execution_count": 50,
      "outputs": []
    },
    {
      "cell_type": "code",
      "source": [
        "from pyspark.sql.functions import lit,col,when, expr\n",
        "pred_data=assembler2.transform(pred_data_raw).select(\"features\").withColumn(\"class_label\",lit(7))\n",
        "pred_data.show()"
      ],
      "metadata": {
        "colab": {
          "base_uri": "https://localhost:8080/"
        },
        "id": "GNOES6WvWtsm",
        "outputId": "ff39fe58-d948-4861-d6c3-acb8e6b3186a"
      },
      "execution_count": 62,
      "outputs": [
        {
          "output_type": "stream",
          "name": "stdout",
          "text": [
            "+-----------------+-----------+\n",
            "|         features|class_label|\n",
            "+-----------------+-----------+\n",
            "|[5.1,3.5,1.4,0.2]|          7|\n",
            "|[6.2,3.4,5.4,2.3]|          7|\n",
            "+-----------------+-----------+\n",
            "\n"
          ]
        }
      ]
    },
    {
      "cell_type": "code",
      "source": [
        "my_predictions = log_rec.evaluate(pred_data).predictions\n",
        "my_predictions.show()"
      ],
      "metadata": {
        "colab": {
          "base_uri": "https://localhost:8080/"
        },
        "id": "Yg1lHSu3Wtk3",
        "outputId": "5bdbff52-0e9e-4ad8-da79-a43286dfdc6f"
      },
      "execution_count": 56,
      "outputs": [
        {
          "output_type": "stream",
          "name": "stdout",
          "text": [
            "+-----------------+-----------+--------------------+--------------------+----------+\n",
            "|         features|class_label|       rawPrediction|         probability|prediction|\n",
            "+-----------------+-----------+--------------------+--------------------+----------+\n",
            "|[5.1,3.5,1.4,0.2]|          7|[35.7852294323550...|[0.99999999996874...|       0.0|\n",
            "|[6.2,3.4,5.4,2.3]|          7|[-21.840045977586...|[1.63924164444503...|       2.0|\n",
            "+-----------------+-----------+--------------------+--------------------+----------+\n",
            "\n"
          ]
        }
      ]
    },
    {
      "cell_type": "code",
      "source": [
        "final_df = my_predictions.select(\"prediction\").alias(\"class\").repartition(1)"
      ],
      "metadata": {
        "id": "9M94ZDPAYlYS"
      },
      "execution_count": 66,
      "outputs": []
    },
    {
      "cell_type": "code",
      "source": [
        "final_df.write.options(header='True').csv(\"out/out_3_2.txt\")"
      ],
      "metadata": {
        "id": "tg-Tpy8qWtZQ"
      },
      "execution_count": 68,
      "outputs": []
    },
    {
      "cell_type": "code",
      "source": [
        "from pyspark.sql import functions as F"
      ],
      "metadata": {
        "id": "6b-tIB_z8eCd"
      },
      "execution_count": 12,
      "outputs": []
    },
    {
      "cell_type": "code",
      "source": [
        "df_merged = raw_data.select(F.array('_c0', '_c1','_c2','_c3').alias('features'),F.col('_c4').alias('label'))\n",
        "df_merged.show(truncate=False)\n",
        "df_merged.printSchema()"
      ],
      "metadata": {
        "colab": {
          "base_uri": "https://localhost:8080/"
        },
        "id": "bKdOPBtl9AIe",
        "outputId": "c5137de3-70e3-49b4-ada3-fb5b785e523b"
      },
      "execution_count": 22,
      "outputs": [
        {
          "output_type": "stream",
          "name": "stdout",
          "text": [
            "+--------------------+-----------+\n",
            "|features            |label      |\n",
            "+--------------------+-----------+\n",
            "|[5.1, 3.5, 1.4, 0.2]|Iris-setosa|\n",
            "|[4.9, 3.0, 1.4, 0.2]|Iris-setosa|\n",
            "|[4.7, 3.2, 1.3, 0.2]|Iris-setosa|\n",
            "|[4.6, 3.1, 1.5, 0.2]|Iris-setosa|\n",
            "|[5.0, 3.6, 1.4, 0.2]|Iris-setosa|\n",
            "|[5.4, 3.9, 1.7, 0.4]|Iris-setosa|\n",
            "|[4.6, 3.4, 1.4, 0.3]|Iris-setosa|\n",
            "|[5.0, 3.4, 1.5, 0.2]|Iris-setosa|\n",
            "|[4.4, 2.9, 1.4, 0.2]|Iris-setosa|\n",
            "|[4.9, 3.1, 1.5, 0.1]|Iris-setosa|\n",
            "|[5.4, 3.7, 1.5, 0.2]|Iris-setosa|\n",
            "|[4.8, 3.4, 1.6, 0.2]|Iris-setosa|\n",
            "|[4.8, 3.0, 1.4, 0.1]|Iris-setosa|\n",
            "|[4.3, 3.0, 1.1, 0.1]|Iris-setosa|\n",
            "|[5.8, 4.0, 1.2, 0.2]|Iris-setosa|\n",
            "|[5.7, 4.4, 1.5, 0.4]|Iris-setosa|\n",
            "|[5.4, 3.9, 1.3, 0.4]|Iris-setosa|\n",
            "|[5.1, 3.5, 1.4, 0.3]|Iris-setosa|\n",
            "|[5.7, 3.8, 1.7, 0.3]|Iris-setosa|\n",
            "|[5.1, 3.8, 1.5, 0.3]|Iris-setosa|\n",
            "+--------------------+-----------+\n",
            "only showing top 20 rows\n",
            "\n",
            "root\n",
            " |-- features: array (nullable = false)\n",
            " |    |-- element: string (containsNull = true)\n",
            " |-- label: string (nullable = true)\n",
            "\n"
          ]
        }
      ]
    },
    {
      "cell_type": "code",
      "source": [],
      "metadata": {
        "colab": {
          "base_uri": "https://localhost:8080/",
          "height": 432
        },
        "id": "BfMVbeUJSAbD",
        "outputId": "f347608e-2493-4315-e02b-db789090a86c"
      },
      "execution_count": 40,
      "outputs": [
        {
          "output_type": "error",
          "ename": "AnalysisException",
          "evalue": "ignored",
          "traceback": [
            "\u001b[0;31m---------------------------------------------------------------------------\u001b[0m",
            "\u001b[0;31mAnalysisException\u001b[0m                         Traceback (most recent call last)",
            "\u001b[0;32m<ipython-input-40-f78908af2300>\u001b[0m in \u001b[0;36m<module>\u001b[0;34m\u001b[0m\n\u001b[0;32m----> 1\u001b[0;31m \u001b[0mdata\u001b[0m \u001b[0;34m=\u001b[0m \u001b[0moutput\u001b[0m\u001b[0;34m.\u001b[0m\u001b[0mselect\u001b[0m\u001b[0;34m(\u001b[0m\u001b[0;34m\"features\"\u001b[0m\u001b[0;34m,\u001b[0m\u001b[0;34m\"label\"\u001b[0m\u001b[0;34m)\u001b[0m\u001b[0;34m\u001b[0m\u001b[0;34m\u001b[0m\u001b[0m\n\u001b[0m",
            "\u001b[0;32m/usr/local/lib/python3.8/dist-packages/pyspark/sql/dataframe.py\u001b[0m in \u001b[0;36mselect\u001b[0;34m(self, *cols)\u001b[0m\n\u001b[1;32m   2021\u001b[0m         \u001b[0;34m[\u001b[0m\u001b[0mRow\u001b[0m\u001b[0;34m(\u001b[0m\u001b[0mname\u001b[0m\u001b[0;34m=\u001b[0m\u001b[0;34m'Alice'\u001b[0m\u001b[0;34m,\u001b[0m \u001b[0mage\u001b[0m\u001b[0;34m=\u001b[0m\u001b[0;36m12\u001b[0m\u001b[0;34m)\u001b[0m\u001b[0;34m,\u001b[0m \u001b[0mRow\u001b[0m\u001b[0;34m(\u001b[0m\u001b[0mname\u001b[0m\u001b[0;34m=\u001b[0m\u001b[0;34m'Bob'\u001b[0m\u001b[0;34m,\u001b[0m \u001b[0mage\u001b[0m\u001b[0;34m=\u001b[0m\u001b[0;36m15\u001b[0m\u001b[0;34m)\u001b[0m\u001b[0;34m]\u001b[0m\u001b[0;34m\u001b[0m\u001b[0;34m\u001b[0m\u001b[0m\n\u001b[1;32m   2022\u001b[0m         \"\"\"\n\u001b[0;32m-> 2023\u001b[0;31m         \u001b[0mjdf\u001b[0m \u001b[0;34m=\u001b[0m \u001b[0mself\u001b[0m\u001b[0;34m.\u001b[0m\u001b[0m_jdf\u001b[0m\u001b[0;34m.\u001b[0m\u001b[0mselect\u001b[0m\u001b[0;34m(\u001b[0m\u001b[0mself\u001b[0m\u001b[0;34m.\u001b[0m\u001b[0m_jcols\u001b[0m\u001b[0;34m(\u001b[0m\u001b[0;34m*\u001b[0m\u001b[0mcols\u001b[0m\u001b[0;34m)\u001b[0m\u001b[0;34m)\u001b[0m\u001b[0;34m\u001b[0m\u001b[0;34m\u001b[0m\u001b[0m\n\u001b[0m\u001b[1;32m   2024\u001b[0m         \u001b[0;32mreturn\u001b[0m \u001b[0mDataFrame\u001b[0m\u001b[0;34m(\u001b[0m\u001b[0mjdf\u001b[0m\u001b[0;34m,\u001b[0m \u001b[0mself\u001b[0m\u001b[0;34m.\u001b[0m\u001b[0msparkSession\u001b[0m\u001b[0;34m)\u001b[0m\u001b[0;34m\u001b[0m\u001b[0;34m\u001b[0m\u001b[0m\n\u001b[1;32m   2025\u001b[0m \u001b[0;34m\u001b[0m\u001b[0m\n",
            "\u001b[0;32m/usr/local/lib/python3.8/dist-packages/py4j/java_gateway.py\u001b[0m in \u001b[0;36m__call__\u001b[0;34m(self, *args)\u001b[0m\n\u001b[1;32m   1319\u001b[0m \u001b[0;34m\u001b[0m\u001b[0m\n\u001b[1;32m   1320\u001b[0m         \u001b[0manswer\u001b[0m \u001b[0;34m=\u001b[0m \u001b[0mself\u001b[0m\u001b[0;34m.\u001b[0m\u001b[0mgateway_client\u001b[0m\u001b[0;34m.\u001b[0m\u001b[0msend_command\u001b[0m\u001b[0;34m(\u001b[0m\u001b[0mcommand\u001b[0m\u001b[0;34m)\u001b[0m\u001b[0;34m\u001b[0m\u001b[0;34m\u001b[0m\u001b[0m\n\u001b[0;32m-> 1321\u001b[0;31m         return_value = get_return_value(\n\u001b[0m\u001b[1;32m   1322\u001b[0m             answer, self.gateway_client, self.target_id, self.name)\n\u001b[1;32m   1323\u001b[0m \u001b[0;34m\u001b[0m\u001b[0m\n",
            "\u001b[0;32m/usr/local/lib/python3.8/dist-packages/pyspark/sql/utils.py\u001b[0m in \u001b[0;36mdeco\u001b[0;34m(*a, **kw)\u001b[0m\n\u001b[1;32m    194\u001b[0m                 \u001b[0;31m# Hide where the exception came from that shows a non-Pythonic\u001b[0m\u001b[0;34m\u001b[0m\u001b[0;34m\u001b[0m\u001b[0;34m\u001b[0m\u001b[0m\n\u001b[1;32m    195\u001b[0m                 \u001b[0;31m# JVM exception message.\u001b[0m\u001b[0;34m\u001b[0m\u001b[0;34m\u001b[0m\u001b[0;34m\u001b[0m\u001b[0m\n\u001b[0;32m--> 196\u001b[0;31m                 \u001b[0;32mraise\u001b[0m \u001b[0mconverted\u001b[0m \u001b[0;32mfrom\u001b[0m \u001b[0;32mNone\u001b[0m\u001b[0;34m\u001b[0m\u001b[0;34m\u001b[0m\u001b[0m\n\u001b[0m\u001b[1;32m    197\u001b[0m             \u001b[0;32melse\u001b[0m\u001b[0;34m:\u001b[0m\u001b[0;34m\u001b[0m\u001b[0;34m\u001b[0m\u001b[0m\n\u001b[1;32m    198\u001b[0m                 \u001b[0;32mraise\u001b[0m\u001b[0;34m\u001b[0m\u001b[0;34m\u001b[0m\u001b[0m\n",
            "\u001b[0;31mAnalysisException\u001b[0m: Column 'label' does not exist. Did you mean one of the following? [_c0, _c1, _c2, _c3, _c4, class_label, features];\n'Project [features#577, 'label]\n+- Project [_c0#168, _c1#169, _c2#170, _c3#171, _c4#172, class_label#544, UDF(struct(_c0, _c0#168, _c1, _c1#169, _c2, _c2#170, _c3, _c3#171)) AS features#577]\n   +- Project [_c0#168, _c1#169, _c2#170, _c3#171, _c4#172, UDF(cast(_c4#172 as string)) AS class_label#544]\n      +- Relation [_c0#168,_c1#169,_c2#170,_c3#171,_c4#172] csv\n"
          ]
        }
      ]
    },
    {
      "cell_type": "code",
      "source": [
        "from pyspark.ml.classification import  LogisticRegression"
      ],
      "metadata": {
        "id": "OzKpuCQP9g8N"
      },
      "execution_count": 19,
      "outputs": []
    },
    {
      "cell_type": "code",
      "source": [
        "model = LogisticRegression().fit(df_merged)"
      ],
      "metadata": {
        "colab": {
          "base_uri": "https://localhost:8080/",
          "height": 365
        },
        "id": "VkNhsPA8-zG8",
        "outputId": "b1f659d8-ae32-4f45-f6d5-8a71b248eaef"
      },
      "execution_count": 23,
      "outputs": [
        {
          "output_type": "error",
          "ename": "IllegalArgumentException",
          "evalue": "ignored",
          "traceback": [
            "\u001b[0;31m---------------------------------------------------------------------------\u001b[0m",
            "\u001b[0;31mIllegalArgumentException\u001b[0m                  Traceback (most recent call last)",
            "\u001b[0;32m<ipython-input-23-c819f72f705b>\u001b[0m in \u001b[0;36m<module>\u001b[0;34m\u001b[0m\n\u001b[0;32m----> 1\u001b[0;31m \u001b[0mmodel\u001b[0m \u001b[0;34m=\u001b[0m \u001b[0mLogisticRegression\u001b[0m\u001b[0;34m(\u001b[0m\u001b[0;34m)\u001b[0m\u001b[0;34m.\u001b[0m\u001b[0mfit\u001b[0m\u001b[0;34m(\u001b[0m\u001b[0mdf_merged\u001b[0m\u001b[0;34m)\u001b[0m\u001b[0;34m\u001b[0m\u001b[0;34m\u001b[0m\u001b[0m\n\u001b[0m",
            "\u001b[0;32m/usr/local/lib/python3.8/dist-packages/pyspark/ml/base.py\u001b[0m in \u001b[0;36mfit\u001b[0;34m(self, dataset, params)\u001b[0m\n\u001b[1;32m    203\u001b[0m                 \u001b[0;32mreturn\u001b[0m \u001b[0mself\u001b[0m\u001b[0;34m.\u001b[0m\u001b[0mcopy\u001b[0m\u001b[0;34m(\u001b[0m\u001b[0mparams\u001b[0m\u001b[0;34m)\u001b[0m\u001b[0;34m.\u001b[0m\u001b[0m_fit\u001b[0m\u001b[0;34m(\u001b[0m\u001b[0mdataset\u001b[0m\u001b[0;34m)\u001b[0m\u001b[0;34m\u001b[0m\u001b[0;34m\u001b[0m\u001b[0m\n\u001b[1;32m    204\u001b[0m             \u001b[0;32melse\u001b[0m\u001b[0;34m:\u001b[0m\u001b[0;34m\u001b[0m\u001b[0;34m\u001b[0m\u001b[0m\n\u001b[0;32m--> 205\u001b[0;31m                 \u001b[0;32mreturn\u001b[0m \u001b[0mself\u001b[0m\u001b[0;34m.\u001b[0m\u001b[0m_fit\u001b[0m\u001b[0;34m(\u001b[0m\u001b[0mdataset\u001b[0m\u001b[0;34m)\u001b[0m\u001b[0;34m\u001b[0m\u001b[0;34m\u001b[0m\u001b[0m\n\u001b[0m\u001b[1;32m    206\u001b[0m         \u001b[0;32melse\u001b[0m\u001b[0;34m:\u001b[0m\u001b[0;34m\u001b[0m\u001b[0;34m\u001b[0m\u001b[0m\n\u001b[1;32m    207\u001b[0m             raise TypeError(\n",
            "\u001b[0;32m/usr/local/lib/python3.8/dist-packages/pyspark/ml/wrapper.py\u001b[0m in \u001b[0;36m_fit\u001b[0;34m(self, dataset)\u001b[0m\n\u001b[1;32m    381\u001b[0m \u001b[0;34m\u001b[0m\u001b[0m\n\u001b[1;32m    382\u001b[0m     \u001b[0;32mdef\u001b[0m \u001b[0m_fit\u001b[0m\u001b[0;34m(\u001b[0m\u001b[0mself\u001b[0m\u001b[0;34m,\u001b[0m \u001b[0mdataset\u001b[0m\u001b[0;34m:\u001b[0m \u001b[0mDataFrame\u001b[0m\u001b[0;34m)\u001b[0m \u001b[0;34m->\u001b[0m \u001b[0mJM\u001b[0m\u001b[0;34m:\u001b[0m\u001b[0;34m\u001b[0m\u001b[0;34m\u001b[0m\u001b[0m\n\u001b[0;32m--> 383\u001b[0;31m         \u001b[0mjava_model\u001b[0m \u001b[0;34m=\u001b[0m \u001b[0mself\u001b[0m\u001b[0;34m.\u001b[0m\u001b[0m_fit_java\u001b[0m\u001b[0;34m(\u001b[0m\u001b[0mdataset\u001b[0m\u001b[0;34m)\u001b[0m\u001b[0;34m\u001b[0m\u001b[0;34m\u001b[0m\u001b[0m\n\u001b[0m\u001b[1;32m    384\u001b[0m         \u001b[0mmodel\u001b[0m \u001b[0;34m=\u001b[0m \u001b[0mself\u001b[0m\u001b[0;34m.\u001b[0m\u001b[0m_create_model\u001b[0m\u001b[0;34m(\u001b[0m\u001b[0mjava_model\u001b[0m\u001b[0;34m)\u001b[0m\u001b[0;34m\u001b[0m\u001b[0;34m\u001b[0m\u001b[0m\n\u001b[1;32m    385\u001b[0m         \u001b[0;32mreturn\u001b[0m \u001b[0mself\u001b[0m\u001b[0;34m.\u001b[0m\u001b[0m_copyValues\u001b[0m\u001b[0;34m(\u001b[0m\u001b[0mmodel\u001b[0m\u001b[0;34m)\u001b[0m\u001b[0;34m\u001b[0m\u001b[0;34m\u001b[0m\u001b[0m\n",
            "\u001b[0;32m/usr/local/lib/python3.8/dist-packages/pyspark/ml/wrapper.py\u001b[0m in \u001b[0;36m_fit_java\u001b[0;34m(self, dataset)\u001b[0m\n\u001b[1;32m    378\u001b[0m \u001b[0;34m\u001b[0m\u001b[0m\n\u001b[1;32m    379\u001b[0m         \u001b[0mself\u001b[0m\u001b[0;34m.\u001b[0m\u001b[0m_transfer_params_to_java\u001b[0m\u001b[0;34m(\u001b[0m\u001b[0;34m)\u001b[0m\u001b[0;34m\u001b[0m\u001b[0;34m\u001b[0m\u001b[0m\n\u001b[0;32m--> 380\u001b[0;31m         \u001b[0;32mreturn\u001b[0m \u001b[0mself\u001b[0m\u001b[0;34m.\u001b[0m\u001b[0m_java_obj\u001b[0m\u001b[0;34m.\u001b[0m\u001b[0mfit\u001b[0m\u001b[0;34m(\u001b[0m\u001b[0mdataset\u001b[0m\u001b[0;34m.\u001b[0m\u001b[0m_jdf\u001b[0m\u001b[0;34m)\u001b[0m\u001b[0;34m\u001b[0m\u001b[0;34m\u001b[0m\u001b[0m\n\u001b[0m\u001b[1;32m    381\u001b[0m \u001b[0;34m\u001b[0m\u001b[0m\n\u001b[1;32m    382\u001b[0m     \u001b[0;32mdef\u001b[0m \u001b[0m_fit\u001b[0m\u001b[0;34m(\u001b[0m\u001b[0mself\u001b[0m\u001b[0;34m,\u001b[0m \u001b[0mdataset\u001b[0m\u001b[0;34m:\u001b[0m \u001b[0mDataFrame\u001b[0m\u001b[0;34m)\u001b[0m \u001b[0;34m->\u001b[0m \u001b[0mJM\u001b[0m\u001b[0;34m:\u001b[0m\u001b[0;34m\u001b[0m\u001b[0;34m\u001b[0m\u001b[0m\n",
            "\u001b[0;32m/usr/local/lib/python3.8/dist-packages/py4j/java_gateway.py\u001b[0m in \u001b[0;36m__call__\u001b[0;34m(self, *args)\u001b[0m\n\u001b[1;32m   1319\u001b[0m \u001b[0;34m\u001b[0m\u001b[0m\n\u001b[1;32m   1320\u001b[0m         \u001b[0manswer\u001b[0m \u001b[0;34m=\u001b[0m \u001b[0mself\u001b[0m\u001b[0;34m.\u001b[0m\u001b[0mgateway_client\u001b[0m\u001b[0;34m.\u001b[0m\u001b[0msend_command\u001b[0m\u001b[0;34m(\u001b[0m\u001b[0mcommand\u001b[0m\u001b[0;34m)\u001b[0m\u001b[0;34m\u001b[0m\u001b[0;34m\u001b[0m\u001b[0m\n\u001b[0;32m-> 1321\u001b[0;31m         return_value = get_return_value(\n\u001b[0m\u001b[1;32m   1322\u001b[0m             answer, self.gateway_client, self.target_id, self.name)\n\u001b[1;32m   1323\u001b[0m \u001b[0;34m\u001b[0m\u001b[0m\n",
            "\u001b[0;32m/usr/local/lib/python3.8/dist-packages/pyspark/sql/utils.py\u001b[0m in \u001b[0;36mdeco\u001b[0;34m(*a, **kw)\u001b[0m\n\u001b[1;32m    194\u001b[0m                 \u001b[0;31m# Hide where the exception came from that shows a non-Pythonic\u001b[0m\u001b[0;34m\u001b[0m\u001b[0;34m\u001b[0m\u001b[0;34m\u001b[0m\u001b[0m\n\u001b[1;32m    195\u001b[0m                 \u001b[0;31m# JVM exception message.\u001b[0m\u001b[0;34m\u001b[0m\u001b[0;34m\u001b[0m\u001b[0;34m\u001b[0m\u001b[0m\n\u001b[0;32m--> 196\u001b[0;31m                 \u001b[0;32mraise\u001b[0m \u001b[0mconverted\u001b[0m \u001b[0;32mfrom\u001b[0m \u001b[0;32mNone\u001b[0m\u001b[0;34m\u001b[0m\u001b[0;34m\u001b[0m\u001b[0m\n\u001b[0m\u001b[1;32m    197\u001b[0m             \u001b[0;32melse\u001b[0m\u001b[0;34m:\u001b[0m\u001b[0;34m\u001b[0m\u001b[0;34m\u001b[0m\u001b[0m\n\u001b[1;32m    198\u001b[0m                 \u001b[0;32mraise\u001b[0m\u001b[0;34m\u001b[0m\u001b[0;34m\u001b[0m\u001b[0m\n",
            "\u001b[0;31mIllegalArgumentException\u001b[0m: requirement failed: Column features must be of type class org.apache.spark.ml.linalg.VectorUDT:struct<type:tinyint,size:int,indices:array<int>,values:array<double>> but was actually class org.apache.spark.sql.types.ArrayType:array<string>."
          ]
        }
      ]
    },
    {
      "cell_type": "code",
      "source": [],
      "metadata": {
        "id": "rzVgiWjP-_Kq"
      },
      "execution_count": null,
      "outputs": []
    }
  ]
}